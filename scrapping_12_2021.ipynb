{
 "cells": [
  {
   "cell_type": "code",
   "execution_count": 1,
   "metadata": {},
   "outputs": [],
   "source": [
    "import numpy as np\n",
    "import pandas as pd\n",
    "import matplotlib.pyplot as plt\n",
    "import random\n",
    "import re\n",
    "from datetime import datetime\n",
    "import requests\n",
    "from bs4 import BeautifulSoup"
   ]
  },
  {
   "cell_type": "markdown",
   "metadata": {},
   "source": [
    "## *Web Scrapping*\n",
    "#### Objetivo: generar web scrapping a una pag que contiene los libros de Borges y aplicar técnicas de NLP"
   ]
  },
  {
   "cell_type": "code",
   "execution_count": 2,
   "metadata": {},
   "outputs": [],
   "source": [
    "#url´s\n",
    "links = ['https://www.literatura.us/borges/laotra.html',\n",
    "         'https://www.literatura.us/borges/biografia.html',\n",
    "         'https://www.literatura.us/borges/escritura.html',\n",
    "         'https://www.literatura.us/borges/inmortal.html',\n",
    "        'https://www.literatura.us/borges/teologos.html',\n",
    "        'https://www.literatura.us/borges/historia.html']"
   ]
  },
  {
   "cell_type": "code",
   "execution_count": 6,
   "metadata": {},
   "outputs": [],
   "source": [
    "#Realizar función para extraer los cuentos de la pag web\n",
    "def get_story(url):\n",
    "    soup = BeautifulSoup(requests.get(url).text,'html.parser')\n",
    "    cuento = soup.body.find_all('p')[1].text\n",
    "    return(cuento)"
   ]
  },
  {
   "cell_type": "code",
   "execution_count": 5,
   "metadata": {},
   "outputs": [],
   "source": [
    "#Imprimir todos los cuentos \n",
    "for i in range(len(links)):\n",
    "    print(get_story(links[i]))\n",
    "    print('-------------------')"
   ]
  },
  {
   "cell_type": "code",
   "execution_count": 7,
   "metadata": {},
   "outputs": [],
   "source": [
    "#Guardar los cuentos en una lista \n",
    "cuentos = []\n",
    "for i in range(len(links)):\n",
    "    cuentos.append(get_story(links[i]))"
   ]
  },
  {
   "cell_type": "code",
   "execution_count": 12,
   "metadata": {},
   "outputs": [],
   "source": [
    "cuentos_borges = pd.DataFrame({'Cuento': ['La otra muerte', 'Biografia de Tadeo Isidoro Cruz', 'Escritura de Dios', 'El Inmortal', \n",
    "                                          'Los teologos', 'Historia del guerrero y la cautiva'], 'Palabras': cuentos})"
   ]
  },
  {
   "cell_type": "code",
   "execution_count": 13,
   "metadata": {},
   "outputs": [
    {
     "data": {
      "text/html": [
       "<div>\n",
       "<style scoped>\n",
       "    .dataframe tbody tr th:only-of-type {\n",
       "        vertical-align: middle;\n",
       "    }\n",
       "\n",
       "    .dataframe tbody tr th {\n",
       "        vertical-align: top;\n",
       "    }\n",
       "\n",
       "    .dataframe thead th {\n",
       "        text-align: right;\n",
       "    }\n",
       "</style>\n",
       "<table border=\"1\" class=\"dataframe\">\n",
       "  <thead>\n",
       "    <tr style=\"text-align: right;\">\n",
       "      <th></th>\n",
       "      <th>Cuento</th>\n",
       "      <th>Palabras</th>\n",
       "    </tr>\n",
       "  </thead>\n",
       "  <tbody>\n",
       "    <tr>\n",
       "      <th>0</th>\n",
       "      <td>La otra muerte</td>\n",
       "      <td>Un par de años hará (he perdido\\r\\n  ...</td>\n",
       "    </tr>\n",
       "    <tr>\n",
       "      <th>1</th>\n",
       "      <td>Biografia de Tadeo Isidoro Cruz</td>\n",
       "      <td>I'm\\r\\n      looking for the face I had\\r\\n   ...</td>\n",
       "    </tr>\n",
       "    <tr>\n",
       "      <th>2</th>\n",
       "      <td>Escritura de Dios</td>\n",
       "      <td>La cárcel es profunda y de piedra;\\r\\...</td>\n",
       "    </tr>\n",
       "    <tr>\n",
       "      <th>3</th>\n",
       "      <td>El Inmortal</td>\n",
       "      <td>Solomon\\r\\n      saith: There is no new ...</td>\n",
       "    </tr>\n",
       "    <tr>\n",
       "      <th>4</th>\n",
       "      <td>Los teologos</td>\n",
       "      <td>Arrasado el jardín, profanados los\\r\\...</td>\n",
       "    </tr>\n",
       "    <tr>\n",
       "      <th>5</th>\n",
       "      <td>Historia del guerrero y la cautiva</td>\n",
       "      <td>En la página 278 del libro La\\r\\n    ...</td>\n",
       "    </tr>\n",
       "  </tbody>\n",
       "</table>\n",
       "</div>"
      ],
      "text/plain": [
       "                               Cuento  \\\n",
       "0                      La otra muerte   \n",
       "1     Biografia de Tadeo Isidoro Cruz   \n",
       "2                   Escritura de Dios   \n",
       "3                         El Inmortal   \n",
       "4                        Los teologos   \n",
       "5  Historia del guerrero y la cautiva   \n",
       "\n",
       "                                            Palabras  \n",
       "0           Un par de años hará (he perdido\\r\\n  ...  \n",
       "1  I'm\\r\\n      looking for the face I had\\r\\n   ...  \n",
       "2           La cárcel es profunda y de piedra;\\r\\...  \n",
       "3        Solomon\\r\\n      saith: There is no new ...  \n",
       "4           Arrasado el jardín, profanados los\\r\\...  \n",
       "5           En la página 278 del libro La\\r\\n    ...  "
      ]
     },
     "execution_count": 13,
     "metadata": {},
     "output_type": "execute_result"
    }
   ],
   "source": [
    "cuentos_borges"
   ]
  },
  {
   "cell_type": "code",
   "execution_count": 14,
   "metadata": {},
   "outputs": [],
   "source": [
    "from nltk.tokenize import word_tokenize\n",
    "from nltk.corpus import stopwords"
   ]
  },
  {
   "cell_type": "code",
   "execution_count": 15,
   "metadata": {},
   "outputs": [],
   "source": [
    "#función que remueva signos\n",
    "def not_signos(x):\n",
    "    sub = re.sub('[)x(/,.;:]','',x)\n",
    "    return(sub)"
   ]
  },
  {
   "cell_type": "code",
   "execution_count": 16,
   "metadata": {},
   "outputs": [],
   "source": [
    "#lower case\n",
    "cuentos_borges['Palabras'] = cuentos_borges['Palabras'].apply(lambda x: x.lower())\n",
    "#Remover los signos\n",
    "cuentos_borges['Palabras'] = cuentos_borges['Palabras'].apply(lambda x: not_signos(x))\n",
    "#Tokenizar: separar las palabras y signos. También remueve los \\n\n",
    "cuentos_borges['Palabras'] = cuentos_borges['Palabras'].apply(lambda x: word_tokenize(x))"
   ]
  },
  {
   "cell_type": "code",
   "execution_count": 17,
   "metadata": {},
   "outputs": [
    {
     "data": {
      "text/html": [
       "<div>\n",
       "<style scoped>\n",
       "    .dataframe tbody tr th:only-of-type {\n",
       "        vertical-align: middle;\n",
       "    }\n",
       "\n",
       "    .dataframe tbody tr th {\n",
       "        vertical-align: top;\n",
       "    }\n",
       "\n",
       "    .dataframe thead th {\n",
       "        text-align: right;\n",
       "    }\n",
       "</style>\n",
       "<table border=\"1\" class=\"dataframe\">\n",
       "  <thead>\n",
       "    <tr style=\"text-align: right;\">\n",
       "      <th></th>\n",
       "      <th>Cuento</th>\n",
       "      <th>Palabras</th>\n",
       "    </tr>\n",
       "  </thead>\n",
       "  <tbody>\n",
       "    <tr>\n",
       "      <th>0</th>\n",
       "      <td>La otra muerte</td>\n",
       "      <td>un</td>\n",
       "    </tr>\n",
       "    <tr>\n",
       "      <th>0</th>\n",
       "      <td>La otra muerte</td>\n",
       "      <td>par</td>\n",
       "    </tr>\n",
       "    <tr>\n",
       "      <th>0</th>\n",
       "      <td>La otra muerte</td>\n",
       "      <td>de</td>\n",
       "    </tr>\n",
       "    <tr>\n",
       "      <th>0</th>\n",
       "      <td>La otra muerte</td>\n",
       "      <td>años</td>\n",
       "    </tr>\n",
       "    <tr>\n",
       "      <th>0</th>\n",
       "      <td>La otra muerte</td>\n",
       "      <td>hará</td>\n",
       "    </tr>\n",
       "  </tbody>\n",
       "</table>\n",
       "</div>"
      ],
      "text/plain": [
       "           Cuento Palabras\n",
       "0  La otra muerte       un\n",
       "0  La otra muerte      par\n",
       "0  La otra muerte       de\n",
       "0  La otra muerte     años\n",
       "0  La otra muerte     hará"
      ]
     },
     "execution_count": 17,
     "metadata": {},
     "output_type": "execute_result"
    }
   ],
   "source": [
    "#Hacer que cada valor de la lista ocupe un lugar\n",
    "cuentos_borges = cuentos_borges.explode(column='Palabras')\n",
    "cuentos_borges.head(5)"
   ]
  },
  {
   "cell_type": "code",
   "execution_count": 18,
   "metadata": {},
   "outputs": [],
   "source": [
    "#Remover stopwords\n",
    "stop = stopwords.words('spanish')"
   ]
  },
  {
   "cell_type": "code",
   "execution_count": 19,
   "metadata": {},
   "outputs": [],
   "source": [
    "#Crear una lista con las plabras de los cuentos que no sean stopwords\n",
    "cuentos_borges = cuentos_borges[~(cuentos_borges['Palabras'].isin(stop))]\n",
    "cuentos_borges = cuentos_borges.reset_index()\n",
    "cuentos_borges = cuentos_borges.drop(columns='index')"
   ]
  },
  {
   "cell_type": "code",
   "execution_count": 21,
   "metadata": {},
   "outputs": [],
   "source": [
    "cuentos_borges = pd.DataFrame(cuentos_borges.value_counts()).reset_index()\n",
    "cuentos_borges.columns = ['Cuento','Palabras', 'Repeticiones']"
   ]
  },
  {
   "cell_type": "code",
   "execution_count": 83,
   "metadata": {},
   "outputs": [
    {
     "data": {
      "text/html": [
       "<div>\n",
       "<style scoped>\n",
       "    .dataframe tbody tr th:only-of-type {\n",
       "        vertical-align: middle;\n",
       "    }\n",
       "\n",
       "    .dataframe tbody tr th {\n",
       "        vertical-align: top;\n",
       "    }\n",
       "\n",
       "    .dataframe thead th {\n",
       "        text-align: right;\n",
       "    }\n",
       "</style>\n",
       "<table border=\"1\" class=\"dataframe\">\n",
       "  <thead>\n",
       "    <tr style=\"text-align: right;\">\n",
       "      <th></th>\n",
       "      <th>Cuento</th>\n",
       "      <th>Palabras</th>\n",
       "      <th>Repeticiones</th>\n",
       "    </tr>\n",
       "  </thead>\n",
       "  <tbody>\n",
       "    <tr>\n",
       "      <th>0</th>\n",
       "      <td>La otra muerte</td>\n",
       "      <td>damián</td>\n",
       "      <td>26</td>\n",
       "    </tr>\n",
       "    <tr>\n",
       "      <th>1</th>\n",
       "      <td>Los teologos</td>\n",
       "      <td>aureliano</td>\n",
       "      <td>25</td>\n",
       "    </tr>\n",
       "    <tr>\n",
       "      <th>2</th>\n",
       "      <td>Los teologos</td>\n",
       "      <td>juan</td>\n",
       "      <td>23</td>\n",
       "    </tr>\n",
       "    <tr>\n",
       "      <th>3</th>\n",
       "      <td>El Inmortal</td>\n",
       "      <td>ciudad</td>\n",
       "      <td>21</td>\n",
       "    </tr>\n",
       "    <tr>\n",
       "      <th>4</th>\n",
       "      <td>El Inmortal</td>\n",
       "      <td>hombres</td>\n",
       "      <td>18</td>\n",
       "    </tr>\n",
       "  </tbody>\n",
       "</table>\n",
       "</div>"
      ],
      "text/plain": [
       "           Cuento   Palabras  Repeticiones\n",
       "0  La otra muerte     damián            26\n",
       "1    Los teologos  aureliano            25\n",
       "2    Los teologos       juan            23\n",
       "3     El Inmortal     ciudad            21\n",
       "4     El Inmortal    hombres            18"
      ]
     },
     "execution_count": 83,
     "metadata": {},
     "output_type": "execute_result"
    }
   ],
   "source": [
    "cuentos_borges[0:5]"
   ]
  },
  {
   "cell_type": "code",
   "execution_count": 54,
   "metadata": {},
   "outputs": [],
   "source": [
    "#Según los palabras más repetidas se realiza otro filtrado\n",
    "excluidas = ['damián','aureliano','juan','cruz','hombre','pedro', 'vi', 'dos', 'masoller', 'tan', 'vez', 'después', 'día', 'más', 'si', 'casi']"
   ]
  },
  {
   "cell_type": "code",
   "execution_count": 63,
   "metadata": {},
   "outputs": [],
   "source": [
    "#Base final\n",
    "base_final = cuentos_borges[~(cuentos_borges['Palabras'].isin(excluidas))].head(15)"
   ]
  },
  {
   "cell_type": "markdown",
   "metadata": {},
   "source": [
    "### Gráficar las palabras más repetidas"
   ]
  },
  {
   "cell_type": "code",
   "execution_count": 81,
   "metadata": {},
   "outputs": [],
   "source": [
    "#Características del titulo\n",
    "font = {'family': 'Times New Roman',\n",
    "        'color':  'black',\n",
    "        'weight': 'normal',\n",
    "        'size': 25}"
   ]
  },
  {
   "cell_type": "code",
   "execution_count": 82,
   "metadata": {},
   "outputs": [
    {
     "data": {
      "image/png": "[encoded data removed]",
      "text/plain": [
       "<Figure size 720x360 with 1 Axes>"
      ]
     },
     "metadata": {
      "needs_background": "light"
     },
     "output_type": "display_data"
    }
   ],
   "source": [
    "#Plot\n",
    "fig, ax = plt.subplots(figsize=(10,5))\n",
    "plt.barh(base_final.iloc[:,1],base_final.iloc[:,2], color = 'slateblue')\n",
    "plt.plot(ax=ax)\n",
    "ax.invert_yaxis()\n",
    "plt.title('Palabras más repetidas en los cuentos de Borges', fontdict=font);"
   ]
  }
 ],
 "metadata": {
  "kernelspec": {
   "display_name": "Python 3",
   "language": "python",
   "name": "python3"
  },
  "language_info": {
   "codemirror_mode": {
    "name": "ipython",
    "version": 3
   },
   "file_extension": ".py",
   "mimetype": "text/x-python",
   "name": "python",
   "nbconvert_exporter": "python",
   "pygments_lexer": "ipython3",
   "version": "3.8.5"
  }
 },
 "nbformat": 4,
 "nbformat_minor": 4
}
